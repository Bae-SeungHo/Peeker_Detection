{
 "cells": [
  {
   "cell_type": "markdown",
   "metadata": {},
   "source": [
    "* ## 인공지능 모델 학습 코드\n"
   ]
  },
  {
   "cell_type": "markdown",
   "metadata": {},
   "source": [
    "### 라이브러리 로드\n",
    "***"
   ]
  },
  {
   "cell_type": "code",
   "execution_count": 1,
   "metadata": {},
   "outputs": [],
   "source": [
    "import tensorflow as tf\n",
    "import tensorflow.keras.layers as tl\n",
    "from tensorflow.keras.models import Sequential\n",
    "import numpy as np\n",
    "import PIL.Image as PIL\n",
    "from glob import glob\n",
    "from sklearn.model_selection import train_test_split\n",
    "import pandas as pd\n",
    "from  tensorflow.keras.preprocessing.image import ImageDataGenerator\n",
    "from tensorflow.keras.callbacks import EarlyStopping\n",
    "import matplotlib.pyplot as plt\n",
    "import cv2"
   ]
  },
  {
   "cell_type": "markdown",
   "metadata": {},
   "source": [
    "###  GPU 활성화 ( GPU 이용 시 )\n",
    "***"
   ]
  },
  {
   "cell_type": "code",
   "execution_count": 2,
   "metadata": {},
   "outputs": [
    {
     "name": "stdout",
     "output_type": "stream",
     "text": [
      "1 Physical GPUs, 1 Logical GPUs\n"
     ]
    }
   ],
   "source": [
    "gpus = tf.config.experimental.list_physical_devices('GPU')\n",
    "if gpus:\n",
    "    try:\n",
    "        # Currently, memory growth needs to be the same across GPUs\n",
    "        for gpu in gpus:\n",
    "            tf.config.experimental.set_memory_growth(gpu, True)\n",
    "        logical_gpus = tf.config.experimental.list_logical_devices('GPU')\n",
    "        print(len(gpus), \"Physical GPUs,\", len(logical_gpus), \"Logical GPUs\")\n",
    "    except RuntimeError as e:\n",
    "        # Memory growth must be set before GPUs have been initialized\n",
    "        print(e)"
   ]
  },
  {
   "cell_type": "markdown",
   "metadata": {},
   "source": [
    "###  이미지 처리 함수\n",
    "***"
   ]
  },
  {
   "cell_type": "code",
   "execution_count": 24,
   "metadata": {},
   "outputs": [],
   "source": [
    "def ImageProc(path,size,color):\n",
    "    img = glob(path)\n",
    "    img = np.random.permutation(img)\n",
    "    img = [ PIL.open(img[i]).convert(color).resize(size) for i in range(len(img))]\n",
    "    img = [np.array(img[i]) for i in range(len(img))]\n",
    "    img = np.array(img)\n",
    "    img = img/255.\n",
    "    return img"
   ]
  },
  {
   "cell_type": "markdown",
   "metadata": {},
   "source": [
    "###  이미지 로드 및 테스트/학습 데이터셋 분류\n",
    "***"
   ]
  },
  {
   "cell_type": "code",
   "execution_count": null,
   "metadata": {},
   "outputs": [],
   "source": [
    "Kids = ImageProc('Result/Kids/*.jpg',(96,96),'RGB')\n",
    "Adults =  ImageProc('Result/Adults/*.jpg',(96,96),'RGB')\n",
    "Olds =  ImageProc('Result/Olds/*.jpg',(96,96),'RGB')\n",
    "All_x = np.vstack((Kids,Adults,Olds))\n",
    "All_y = np.hstack((np.zeros(Kids.shape[0]),np.ones(Adults.shape[0]),np.full(Olds.shape[0],2)))\n",
    "All_y = pd.get_dummies(All_y)\n",
    "x,x_test,y,y_test = train_test_split(All_x,All_y,test_size=0.2,random_state=2000)\n",
    "\n",
    "print('[Dataset] kids: {}, adults: {}, olds: {}'.format(Kids.shape[0]  , Adults.shape[0] , Olds.shape[0]))"
   ]
  },
  {
   "cell_type": "markdown",
   "metadata": {},
   "source": [
    "###  모델 구성\n",
    "***"
   ]
  },
  {
   "cell_type": "code",
   "execution_count": 26,
   "metadata": {},
   "outputs": [],
   "source": [
    "model = Sequential()\n",
    "model.add(tl.Input((96,96,3)))\n",
    "model.add(tl.Conv2D(32,kernel_size=3,activation='selu'))\n",
    "model.add(tl.MaxPool2D(pool_size=2))\n",
    "model.add(tl.Conv2D(64,kernel_size=3,activation='selu'))\n",
    "model.add(tl.MaxPool2D(pool_size=2))\n",
    "model.add(tl.Conv2D(128,kernel_size=3,activation='selu'))\n",
    "model.add(tl.MaxPool2D(pool_size=2))\n",
    "model.add(tl.Conv2D(256,kernel_size=3,activation='selu'))\n",
    "model.add(tl.Flatten())\n",
    "model.add(tl.Dense(256))\n",
    "model.add(tl.BatchNormalization())\n",
    "model.add(tl.Activation(activation='selu'))\n",
    "model.add(tl.Dropout(0.15))\n",
    "model.add(tl.Dense(128))\n",
    "model.add(tl.BatchNormalization())\n",
    "model.add(tl.Activation(activation='selu'))\n",
    "model.add(tl.Dense(3,activation='softmax'))"
   ]
  },
  {
   "cell_type": "code",
   "execution_count": 27,
   "metadata": {},
   "outputs": [
    {
     "name": "stdout",
     "output_type": "stream",
     "text": [
      "Model: \"sequential_1\"\n",
      "_________________________________________________________________\n",
      "Layer (type)                 Output Shape              Param #   \n",
      "=================================================================\n",
      "conv2d_4 (Conv2D)            (None, 94, 94, 32)        896       \n",
      "_________________________________________________________________\n",
      "max_pooling2d_3 (MaxPooling2 (None, 47, 47, 32)        0         \n",
      "_________________________________________________________________\n",
      "conv2d_5 (Conv2D)            (None, 45, 45, 64)        18496     \n",
      "_________________________________________________________________\n",
      "max_pooling2d_4 (MaxPooling2 (None, 22, 22, 64)        0         \n",
      "_________________________________________________________________\n",
      "conv2d_6 (Conv2D)            (None, 20, 20, 128)       73856     \n",
      "_________________________________________________________________\n",
      "max_pooling2d_5 (MaxPooling2 (None, 10, 10, 128)       0         \n",
      "_________________________________________________________________\n",
      "conv2d_7 (Conv2D)            (None, 8, 8, 256)         295168    \n",
      "_________________________________________________________________\n",
      "flatten_1 (Flatten)          (None, 16384)             0         \n",
      "_________________________________________________________________\n",
      "dense_3 (Dense)              (None, 256)               4194560   \n",
      "_________________________________________________________________\n",
      "batch_normalization_2 (Batch (None, 256)               1024      \n",
      "_________________________________________________________________\n",
      "activation_2 (Activation)    (None, 256)               0         \n",
      "_________________________________________________________________\n",
      "dropout_1 (Dropout)          (None, 256)               0         \n",
      "_________________________________________________________________\n",
      "dense_4 (Dense)              (None, 128)               32896     \n",
      "_________________________________________________________________\n",
      "batch_normalization_3 (Batch (None, 128)               512       \n",
      "_________________________________________________________________\n",
      "activation_3 (Activation)    (None, 128)               0         \n",
      "_________________________________________________________________\n",
      "dense_5 (Dense)              (None, 3)                 387       \n",
      "=================================================================\n",
      "Total params: 4,617,795\n",
      "Trainable params: 4,617,027\n",
      "Non-trainable params: 768\n",
      "_________________________________________________________________\n"
     ]
    }
   ],
   "source": [
    "model.summary()"
   ]
  },
  {
   "cell_type": "code",
   "execution_count": 28,
   "metadata": {},
   "outputs": [],
   "source": [
    "model.compile('adam','categorical_crossentropy','accuracy')"
   ]
  },
  {
   "cell_type": "markdown",
   "metadata": {
    "tags": []
   },
   "source": [
    "###  데이터 증식 및 학습\n",
    "***"
   ]
  },
  {
   "cell_type": "code",
   "execution_count": 29,
   "metadata": {},
   "outputs": [],
   "source": [
    "Train_Datagen= ImageDataGenerator(rotation_range=20,width_shift_range=0.2,height_shift_range=0.2,shear_range=0.2,zoom_range=0.2,horizontal_flip=True,fill_mode='nearest')\n",
    "Test_Datagen = ImageDataGenerator()\n"
   ]
  },
  {
   "cell_type": "code",
   "execution_count": 32,
   "metadata": {},
   "outputs": [],
   "source": [
    "Train_Gen = Train_Datagen.flow(x,y,batch_size=8)\n",
    "Test_Gen = Test_Datagen.flow(x_test,y_test,batch_size=8)"
   ]
  },
  {
   "cell_type": "code",
   "execution_count": 33,
   "metadata": {},
   "outputs": [
    {
     "name": "stdout",
     "output_type": "stream",
     "text": [
      "Epoch 1/200\n",
      "90/90 [==============================] - 1s 15ms/step - loss: 0.1833 - accuracy: 0.9347 - val_loss: 0.2084 - val_accuracy: 0.9227\n",
      "Epoch 2/200\n",
      "90/90 [==============================] - 1s 15ms/step - loss: 0.1565 - accuracy: 0.9528 - val_loss: 0.2375 - val_accuracy: 0.9061\n",
      "Epoch 3/200\n",
      "90/90 [==============================] - 1s 15ms/step - loss: 0.1641 - accuracy: 0.9361 - val_loss: 0.2053 - val_accuracy: 0.9171\n",
      "Epoch 4/200\n",
      "90/90 [==============================] - 1s 15ms/step - loss: 0.1417 - accuracy: 0.9514 - val_loss: 0.2271 - val_accuracy: 0.9171\n",
      "Epoch 5/200\n",
      "90/90 [==============================] - 1s 15ms/step - loss: 0.1534 - accuracy: 0.9472 - val_loss: 0.2159 - val_accuracy: 0.9061\n",
      "Epoch 6/200\n",
      "90/90 [==============================] - 1s 15ms/step - loss: 0.1437 - accuracy: 0.9583 - val_loss: 0.2197 - val_accuracy: 0.9227\n",
      "Epoch 7/200\n",
      "90/90 [==============================] - 1s 16ms/step - loss: 0.1564 - accuracy: 0.9444 - val_loss: 0.2454 - val_accuracy: 0.9171\n",
      "Epoch 8/200\n",
      "90/90 [==============================] - 1s 15ms/step - loss: 0.1781 - accuracy: 0.9375 - val_loss: 0.2426 - val_accuracy: 0.9171\n",
      "Epoch 9/200\n",
      "90/90 [==============================] - 1s 15ms/step - loss: 0.1422 - accuracy: 0.9486 - val_loss: 0.2719 - val_accuracy: 0.9061\n",
      "Epoch 10/200\n",
      "90/90 [==============================] - 1s 15ms/step - loss: 0.1861 - accuracy: 0.9417 - val_loss: 0.2261 - val_accuracy: 0.9227\n",
      "Epoch 11/200\n",
      "90/90 [==============================] - 1s 15ms/step - loss: 0.1482 - accuracy: 0.9458 - val_loss: 0.2669 - val_accuracy: 0.8950\n",
      "Epoch 12/200\n",
      "90/90 [==============================] - 1s 15ms/step - loss: 0.1234 - accuracy: 0.9542 - val_loss: 0.2170 - val_accuracy: 0.9116\n",
      "Epoch 13/200\n",
      "90/90 [==============================] - 1s 15ms/step - loss: 0.1431 - accuracy: 0.9444 - val_loss: 0.3580 - val_accuracy: 0.8785\n",
      "Epoch 14/200\n",
      "90/90 [==============================] - 1s 15ms/step - loss: 0.1464 - accuracy: 0.9514 - val_loss: 0.2356 - val_accuracy: 0.9171\n",
      "Epoch 15/200\n",
      "90/90 [==============================] - 1s 15ms/step - loss: 0.1378 - accuracy: 0.9500 - val_loss: 0.3194 - val_accuracy: 0.8950\n",
      "Epoch 16/200\n",
      "90/90 [==============================] - 1s 15ms/step - loss: 0.1897 - accuracy: 0.9389 - val_loss: 0.2573 - val_accuracy: 0.9116\n",
      "Epoch 17/200\n",
      "90/90 [==============================] - 1s 15ms/step - loss: 0.1653 - accuracy: 0.9389 - val_loss: 0.3280 - val_accuracy: 0.9061\n",
      "Epoch 18/200\n",
      "90/90 [==============================] - 1s 15ms/step - loss: 0.1324 - accuracy: 0.9653 - val_loss: 0.2815 - val_accuracy: 0.9006\n",
      "Epoch 19/200\n",
      "90/90 [==============================] - 1s 15ms/step - loss: 0.1893 - accuracy: 0.9347 - val_loss: 0.2457 - val_accuracy: 0.9061\n",
      "Epoch 20/200\n",
      "90/90 [==============================] - 1s 16ms/step - loss: 0.1557 - accuracy: 0.9389 - val_loss: 0.2630 - val_accuracy: 0.9227\n",
      "Epoch 21/200\n",
      "90/90 [==============================] - 1s 15ms/step - loss: 0.1612 - accuracy: 0.9319 - val_loss: 0.2098 - val_accuracy: 0.9061\n",
      "Epoch 22/200\n",
      "90/90 [==============================] - 1s 15ms/step - loss: 0.1218 - accuracy: 0.9569 - val_loss: 0.2658 - val_accuracy: 0.9171\n",
      "Epoch 23/200\n",
      "90/90 [==============================] - 1s 15ms/step - loss: 0.1595 - accuracy: 0.9431 - val_loss: 0.1821 - val_accuracy: 0.9282\n",
      "Epoch 24/200\n",
      "90/90 [==============================] - 1s 15ms/step - loss: 0.1538 - accuracy: 0.9458 - val_loss: 0.2787 - val_accuracy: 0.8950\n",
      "Epoch 25/200\n",
      "90/90 [==============================] - 1s 15ms/step - loss: 0.2037 - accuracy: 0.9319 - val_loss: 0.2774 - val_accuracy: 0.9061\n",
      "Epoch 26/200\n",
      "90/90 [==============================] - 1s 15ms/step - loss: 0.1338 - accuracy: 0.9569 - val_loss: 0.2439 - val_accuracy: 0.9116\n",
      "Epoch 27/200\n",
      "90/90 [==============================] - 1s 15ms/step - loss: 0.1092 - accuracy: 0.9667 - val_loss: 0.3521 - val_accuracy: 0.9006\n",
      "Epoch 28/200\n",
      "90/90 [==============================] - 1s 15ms/step - loss: 0.1206 - accuracy: 0.9653 - val_loss: 0.2943 - val_accuracy: 0.9227\n",
      "Epoch 29/200\n",
      "90/90 [==============================] - 1s 16ms/step - loss: 0.1370 - accuracy: 0.9514 - val_loss: 0.2990 - val_accuracy: 0.9061\n",
      "Epoch 30/200\n",
      "90/90 [==============================] - 1s 16ms/step - loss: 0.1571 - accuracy: 0.9472 - val_loss: 0.2640 - val_accuracy: 0.9061\n",
      "Epoch 31/200\n",
      "90/90 [==============================] - 1s 16ms/step - loss: 0.1299 - accuracy: 0.9514 - val_loss: 0.2671 - val_accuracy: 0.8840\n",
      "Epoch 32/200\n",
      "90/90 [==============================] - 1s 15ms/step - loss: 0.1192 - accuracy: 0.9597 - val_loss: 0.2619 - val_accuracy: 0.9116\n",
      "Epoch 33/200\n",
      "90/90 [==============================] - 1s 15ms/step - loss: 0.1392 - accuracy: 0.9556 - val_loss: 0.3064 - val_accuracy: 0.9061\n",
      "Epoch 34/200\n",
      "90/90 [==============================] - 1s 15ms/step - loss: 0.1098 - accuracy: 0.9583 - val_loss: 0.2747 - val_accuracy: 0.9116\n",
      "Epoch 35/200\n",
      "90/90 [==============================] - 1s 15ms/step - loss: 0.0982 - accuracy: 0.9681 - val_loss: 0.2527 - val_accuracy: 0.9171\n",
      "Epoch 36/200\n",
      "90/90 [==============================] - 1s 15ms/step - loss: 0.1099 - accuracy: 0.9625 - val_loss: 0.2191 - val_accuracy: 0.9282\n",
      "Epoch 37/200\n",
      "90/90 [==============================] - 1s 15ms/step - loss: 0.1451 - accuracy: 0.9444 - val_loss: 0.2462 - val_accuracy: 0.9116\n",
      "Epoch 38/200\n",
      "90/90 [==============================] - 1s 16ms/step - loss: 0.1600 - accuracy: 0.9486 - val_loss: 0.2779 - val_accuracy: 0.9116\n",
      "Epoch 39/200\n",
      "90/90 [==============================] - 1s 15ms/step - loss: 0.1198 - accuracy: 0.9556 - val_loss: 0.2040 - val_accuracy: 0.9227\n",
      "Epoch 40/200\n",
      "90/90 [==============================] - 1s 15ms/step - loss: 0.1428 - accuracy: 0.9417 - val_loss: 0.3715 - val_accuracy: 0.8729\n",
      "Epoch 41/200\n",
      "90/90 [==============================] - 1s 15ms/step - loss: 0.1428 - accuracy: 0.9514 - val_loss: 0.2878 - val_accuracy: 0.8895\n",
      "Epoch 42/200\n",
      "90/90 [==============================] - 1s 15ms/step - loss: 0.1589 - accuracy: 0.9458 - val_loss: 0.2871 - val_accuracy: 0.8895\n",
      "Epoch 43/200\n",
      "90/90 [==============================] - 1s 15ms/step - loss: 0.1389 - accuracy: 0.9583 - val_loss: 0.2361 - val_accuracy: 0.9227\n",
      "Epoch 44/200\n",
      "90/90 [==============================] - 1s 15ms/step - loss: 0.1500 - accuracy: 0.9431 - val_loss: 0.3124 - val_accuracy: 0.8895\n",
      "Epoch 45/200\n",
      "90/90 [==============================] - 1s 15ms/step - loss: 0.1354 - accuracy: 0.9667 - val_loss: 0.2058 - val_accuracy: 0.9282\n",
      "Epoch 46/200\n",
      "90/90 [==============================] - 1s 15ms/step - loss: 0.1381 - accuracy: 0.9500 - val_loss: 0.2800 - val_accuracy: 0.9227\n",
      "Epoch 47/200\n",
      "90/90 [==============================] - 1s 15ms/step - loss: 0.1173 - accuracy: 0.9583 - val_loss: 0.3082 - val_accuracy: 0.9006\n",
      "Epoch 48/200\n",
      "90/90 [==============================] - 1s 15ms/step - loss: 0.1381 - accuracy: 0.9431 - val_loss: 0.3987 - val_accuracy: 0.8895\n",
      "Epoch 49/200\n",
      "90/90 [==============================] - 1s 15ms/step - loss: 0.1147 - accuracy: 0.9569 - val_loss: 0.1852 - val_accuracy: 0.9392\n",
      "Epoch 50/200\n",
      "90/90 [==============================] - 1s 15ms/step - loss: 0.1285 - accuracy: 0.9528 - val_loss: 0.3000 - val_accuracy: 0.8950\n",
      "Epoch 51/200\n",
      "90/90 [==============================] - 1s 15ms/step - loss: 0.1226 - accuracy: 0.9556 - val_loss: 0.2435 - val_accuracy: 0.9282\n",
      "Epoch 52/200\n",
      "90/90 [==============================] - 1s 15ms/step - loss: 0.1550 - accuracy: 0.9472 - val_loss: 0.3067 - val_accuracy: 0.8895\n",
      "Epoch 53/200\n",
      "90/90 [==============================] - 1s 16ms/step - loss: 0.1373 - accuracy: 0.9472 - val_loss: 0.2196 - val_accuracy: 0.9337\n"
     ]
    },
    {
     "data": {
      "text/plain": [
       "<tensorflow.python.keras.callbacks.History at 0x1b9b4771470>"
      ]
     },
     "execution_count": 33,
     "metadata": {},
     "output_type": "execute_result"
    }
   ],
   "source": [
    "early_stopping = EarlyStopping(patience = 20)\n",
    "model.fit(Train_Gen,epochs=200,validation_data=Test_Gen,callbacks=[early_stopping])"
   ]
  },
  {
   "cell_type": "markdown",
   "metadata": {},
   "source": [
    "###  예측 결과 확인 및 저장\n",
    "***"
   ]
  },
  {
   "cell_type": "code",
   "execution_count": 22,
   "metadata": {},
   "outputs": [
    {
     "data": {
      "text/plain": [
       "'adult'"
      ]
     },
     "execution_count": 22,
     "metadata": {},
     "output_type": "execute_result"
    }
   ],
   "source": [
    "age_list = ['kid','adult','old']\n",
    "age_list[model.predict(x_test[36].reshape(1,96,96,3)).argmax()]"
   ]
  },
  {
   "cell_type": "code",
   "execution_count": 36,
   "metadata": {},
   "outputs": [],
   "source": [
    "model.save('Add-on/Mask_Face_Detector_new.h5')"
   ]
  }
 ],
 "metadata": {
  "kernelspec": {
   "display_name": "Python 3",
   "language": "python",
   "name": "python3"
  },
  "language_info": {
   "codemirror_mode": {
    "name": "ipython",
    "version": 3
   },
   "file_extension": ".py",
   "mimetype": "text/x-python",
   "name": "python",
   "nbconvert_exporter": "python",
   "pygments_lexer": "ipython3",
   "version": "3.8.8"
  }
 },
 "nbformat": 4,
 "nbformat_minor": 4
}
