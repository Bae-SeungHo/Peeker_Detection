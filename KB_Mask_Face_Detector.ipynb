{
 "cells": [
  {
   "cell_type": "markdown",
   "id": "51d54e5a-7af6-42a9-b39c-1310199a58c5",
   "metadata": {},
   "source": [
    "* ## 사진의 얼굴 추출 및 전처리 코드"
   ]
  },
  {
   "cell_type": "markdown",
   "id": "5945e7fc-6061-483e-9317-6a65c7782d62",
   "metadata": {},
   "source": [
    "### 라이브러리 로드\n",
    "***"
   ]
  },
  {
   "cell_type": "code",
   "execution_count": 1,
   "id": "668a2854-fdc2-41ca-ac7e-707eadb74850",
   "metadata": {},
   "outputs": [],
   "source": [
    "import cv2\n",
    "import cvlib as cv\n",
    "from glob import glob\n",
    "import numpy as np\n",
    "import PIL.Image as PIL\n",
    "import matplotlib.pyplot as plt\n",
    "import dlib"
   ]
  },
  {
   "cell_type": "markdown",
   "id": "77ad2930-945f-4d8c-bef7-b5293c35c2e2",
   "metadata": {},
   "source": [
    "### 이미지 처리 함수\n",
    "***"
   ]
  },
  {
   "cell_type": "code",
   "execution_count": 4,
   "id": "124f99f3-bc5e-4cb4-897c-80f1c13f3ad9",
   "metadata": {},
   "outputs": [],
   "source": [
    "MARGIN = 20\n",
    "def ImageProc(path,size,color):\n",
    "    img = glob(path)\n",
    "    img = np.random.permutation(img)\n",
    "    img = [ PIL.open(img[i]).convert(color).resize(size) for i in range(len(img))]\n",
    "    img = [np.array(img[i]) for i in range(len(img))]\n",
    "    img = np.array(img)\n",
    "    return img"
   ]
  },
  {
   "cell_type": "markdown",
   "id": "32351475-5aa1-43f1-b3ce-11dc2c75bebc",
   "metadata": {},
   "source": [
    "### 이미지 로드\n",
    "***"
   ]
  },
  {
   "cell_type": "code",
   "execution_count": 3,
   "id": "9a270b57-49a0-4952-b615-54c34e552214",
   "metadata": {},
   "outputs": [],
   "source": [
    "kids = ImageProc('Dataset/어린이/*.jpg',(416,416),'RGB')\n",
    "adults = ImageProc('Dataset/성인/*.jpg',(416,416),'RGB')\n",
    "olds = ImageProc('Dataset/노인/*.jpg',(416,416),'RGB')\n"
   ]
  },
  {
   "cell_type": "markdown",
   "id": "36da6972-898e-4563-9110-808a555144ec",
   "metadata": {},
   "source": [
    "### 어린이 이미지 추출\n",
    "***"
   ]
  },
  {
   "cell_type": "code",
   "execution_count": null,
   "id": "1952be1f-fec5-4938-ab81-10d96a479691",
   "metadata": {},
   "outputs": [],
   "source": [
    "unable_faces = []\n",
    "for index,frame in enumerate(kids):\n",
    "    faces, conf = cv.detect_face(frame,enable_gpu=True)\n",
    "    if not faces:\n",
    "        print('{}-th face coudlnt detect'.format(index))\n",
    "        unable_faces.append(frame)\n",
    "    for i in faces:\n",
    "        l,t,r,b = i\n",
    "        face = np.copy(frame[t-MARGIN:b+MARGIN,l-MARGIN:r+MARGIN])\n",
    "        if not face.size:\n",
    "            break\n",
    "        face = cv2.cvtColor(face,cv2.COLOR_BGR2RGB)\n",
    "        face = cv2.resize(face,dsize=(416,416),interpolation=cv2.INTER_AREA)\n",
    "        \n",
    "        cv2.imwrite('Result/kids/kid_'+str(index)+'.jpg',face)"
   ]
  },
  {
   "cell_type": "markdown",
   "id": "8a3f0e45-ae5f-4968-b74c-45099e98b8fb",
   "metadata": {},
   "source": [
    "#### 인식되지 않은 어린이 이미지 개별 저장"
   ]
  },
  {
   "cell_type": "code",
   "execution_count": 93,
   "id": "d5793d48-bb72-4b57-87ab-5da9b36c4190",
   "metadata": {},
   "outputs": [],
   "source": [
    "for index,frame in enumerate(unable_faces):\n",
    "    cv2.imwrite('Result/unkids/kid_'+str(index)+'.jpg',frame)"
   ]
  },
  {
   "cell_type": "markdown",
   "id": "cd8af8fe-0c65-4dcf-995a-8bc573634efa",
   "metadata": {},
   "source": [
    "### 성인 이미지 추출\n",
    "***"
   ]
  },
  {
   "cell_type": "code",
   "execution_count": null,
   "id": "d5918631-d8db-4c50-96e9-1a2269733cfb",
   "metadata": {},
   "outputs": [],
   "source": [
    "unable_faces = []\n",
    "for index,frame in enumerate(adults):\n",
    "    faces, conf = cv.detect_face(frame,enable_gpu=True)\n",
    "    if not faces:\n",
    "        print('{}-th face coudlnt detect'.format(index))\n",
    "        unable_faces.append(frame)\n",
    "    for i in faces:\n",
    "        l,t,r,b = i\n",
    "        face = np.copy(frame[t-MARGIN:b+MARGIN,l-MARGIN:r+MARGIN])\n",
    "        if not face.size:\n",
    "            break\n",
    "        face = cv2.cvtColor(face,cv2.COLOR_BGR2RGB)\n",
    "        face = cv2.resize(face,dsize=(416,416),interpolation=cv2.INTER_AREA)\n",
    "        \n",
    "        cv2.imwrite('Result/adults/adult_'+str(index)+'.jpg',face)"
   ]
  },
  {
   "cell_type": "markdown",
   "id": "77ae6496-8bec-406f-a71e-08db9e9c836c",
   "metadata": {},
   "source": [
    "#### 인식되지 않은 성인 이미지 개별 저장"
   ]
  },
  {
   "cell_type": "code",
   "execution_count": 96,
   "id": "6f1b17b4-e6fb-4b45-bcaf-d43371da0472",
   "metadata": {},
   "outputs": [],
   "source": [
    "for index,frame in enumerate(unable_faces):\n",
    "    cv2.imwrite('Result/unadults/adult_'+str(index)+'.jpg',frame)"
   ]
  },
  {
   "cell_type": "markdown",
   "id": "91b88969-ceae-446e-8009-24622c84a8c6",
   "metadata": {},
   "source": [
    "### 노인 이미지 추출\n",
    "***"
   ]
  },
  {
   "cell_type": "code",
   "execution_count": null,
   "id": "68e98001-c60b-481e-b2bd-13dccc71858f",
   "metadata": {},
   "outputs": [],
   "source": [
    "unable_faces = []\n",
    "for index,frame in enumerate(olds_extra):\n",
    "    faces, conf = cv.detect_face(frame,enable_gpu=True)\n",
    "    if not faces:\n",
    "        print('{}-th face coudlnt detect'.format(index))\n",
    "        unable_faces.append(frame)\n",
    "    for i in faces:\n",
    "        l,t,r,b = i\n",
    "        face = np.copy(frame[t-MARGIN:b+MARGIN,l-MARGIN:r+MARGIN])\n",
    "        if not face.size:\n",
    "            break\n",
    "        face = cv2.cvtColor(face,cv2.COLOR_BGR2RGB)\n",
    "        face = cv2.resize(face,dsize=(416,416),interpolation=cv2.INTER_AREA)\n",
    "        \n",
    "        cv2.imwrite('Result/olds_extra/old_ex_'+str(index)+'.jpg',face)"
   ]
  },
  {
   "cell_type": "markdown",
   "id": "ee4bdf2b-97bb-4cb6-b779-418506e24258",
   "metadata": {},
   "source": [
    "#### 인식되지 않은 노인 이미지 개별 저장"
   ]
  },
  {
   "cell_type": "code",
   "execution_count": 6,
   "id": "a673b856-85ae-4916-aa8b-55d397e6c6eb",
   "metadata": {},
   "outputs": [],
   "source": [
    "for index,frame in enumerate(unable_faces):\n",
    "    cv2.imwrite('Result/unolds_extra/olds_ex_'+str(index)+'.jpg',frame)"
   ]
  }
 ],
 "metadata": {
  "kernelspec": {
   "display_name": "Python 3",
   "language": "python",
   "name": "python3"
  },
  "language_info": {
   "codemirror_mode": {
    "name": "ipython",
    "version": 3
   },
   "file_extension": ".py",
   "mimetype": "text/x-python",
   "name": "python",
   "nbconvert_exporter": "python",
   "pygments_lexer": "ipython3",
   "version": "3.8.8"
  }
 },
 "nbformat": 4,
 "nbformat_minor": 5
}
